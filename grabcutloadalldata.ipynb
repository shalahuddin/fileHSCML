{
  "cells": [
    {
      "cell_type": "code",
      "execution_count": null,
      "metadata": {
        "id": "TQhJ2wlD_65D"
      },
      "outputs": [],
      "source": [
        "from glob import glob\n",
        "import cv2\n",
        "from cv2 import imshow\n",
        "import numpy as np\n",
        "import cv2\n",
        "from matplotlib import pyplot as plt\n",
        "import PIL"
      ]
    },
    {
      "cell_type": "markdown",
      "metadata": {
        "id": "zAZbUsBsHRQ8"
      },
      "source": [
        "Mencoba mengunakan salah satu gambar sawah.\n",
        "\n",
        "---\n",
        "\n",
        "\n",
        "Mengambil nilai intesitas RGB selanjutnya mengambil nilai mean pada warna hijau."
      ]
    },
    {
      "cell_type": "code",
      "execution_count": null,
      "metadata": {
        "colab": {
          "base_uri": "https://localhost:8080/"
        },
        "id": "-I6t8SfS7cW3",
        "outputId": "07af7082-290a-4084-cfc4-5078c93408f1"
      },
      "outputs": [
        {
          "name": "stdout",
          "output_type": "stream",
          "text": [
            "nilai Aray gamnbar hijau: [[152 149 138 ... 253 220 224]\n",
            " [154 149 140 ... 255 225 223]\n",
            " [147 146 136 ... 255 234 245]\n",
            " ...\n",
            " [156 157 161 ...  43  33  37]\n",
            " [151 155 161 ...  48  48  56]\n",
            " [152 154 160 ...  50  56  56]]\n",
            "nilai  mean gambar hijau: (147.7863710924104, 0.0, 0.0, 0.0)\n",
            "nilai mean RGB :(65.86696353697809, 147.7863710924104, 96.88962516209061, 0.0)\n"
          ]
        }
      ],
      "source": [
        "#kode percobaan\n",
        "img = cv2.imread('/content/drive/MyDrive/HSC/dataset/data training baru/20220218_153358.jpg')\n",
        "\n",
        "# Metode Grabcut\n",
        "\n",
        "# mask =np.zeros(img.shape[:2],np.uint8)\n",
        "# bgdModel = np.zeros((1,65),np.float64)\n",
        "# fgdModel = np.zeros((1,65),np.float64)\n",
        "\n",
        "# rect= (40,40,50,300)\n",
        "# cv2.grabCut(img,mask,rect,bgdModel,fgdModel,5,cv2.GC_INIT_WITH_RECT)\n",
        "# mask2 =np.where((mask==2) | (mask==0),0,1).astype('uint8')\n",
        "# img =img*mask2[:,:,np.newaxis]\n",
        "\n",
        "# split nilai RGB\n",
        "b,g,r = cv2.split(img)\n",
        "img = cv2.merge((b,g,r))\n",
        "\n",
        "print(f\"nilai Aray gamnbar hijau: {g}\")\n",
        "print(f\"nilai  mean gambar hijau: {cv2.mean(g)}\")\n",
        "\n",
        "# print(f\"nilai biru: {b}\")\n",
        "\n",
        "\n",
        "# plt.imshow(img),plt.colorbar(),plt.show()\n",
        "print(f'nilai mean RGB :{cv2.mean(img)}')\n"
      ]
    },
    {
      "cell_type": "code",
      "execution_count": null,
      "metadata": {
        "id": "2VgICsloY8zS"
      },
      "outputs": [],
      "source": [
        "# Gambar sawah\n",
        "for im in glob('/content/drive/MyDrive/HSC/dataset/*.jpg'):\n",
        "  img = cv2.imread(im, -1)\n",
        "  print(cv2.mean(img))\n"
      ]
    },
    {
      "cell_type": "markdown",
      "metadata": {
        "id": "seDUOJoGnwwy"
      },
      "source": [
        "**Data sawah**"
      ]
    },
    {
      "cell_type": "code",
      "execution_count": null,
      "metadata": {
        "colab": {
          "base_uri": "https://localhost:8080/"
        },
        "id": "ixsqLH3UVcoL",
        "outputId": "1e6961c4-da77-4254-f42c-fe17871c56ea"
      },
      "outputs": [
        {
          "name": "stdout",
          "output_type": "stream",
          "text": [
            "level 1 :171.0\n",
            "level 2 :156.0\n",
            "level 3 :145.0\n",
            "level 4 :130.0\n",
            "level 5 :118.0\n",
            "level 6 :104.0\n",
            "level 7 :92.0\n",
            "level 8 :80.0\n"
          ]
        }
      ],
      "source": [
        "i = 1\n",
        "for im in glob('/content/drive/MyDrive/HSC/dataset/data gambar BWD/*.png'):\n",
        "  img = cv2.imread(im, -1)\n",
        "  i= i +1\n",
        "  print(f'level {i -1} :{cv2.mean(img)[1]}')\n",
        "\n"
      ]
    },
    {
      "cell_type": "markdown",
      "metadata": {
        "id": "NENgz2h9yLyj"
      },
      "source": [
        "\n",
        "\n",
        "* level 1 :171.0\n",
        "* level 2 :156.0\n",
        "* level 3 :145.0\n",
        "* level 4 :130.0\n",
        "* level 5 :118.0\n",
        "* level 6 :104.0\n",
        "* level 7 :92.0\n",
        "* level 8 :80.0\n",
        "\n",
        "---\n",
        "\n",
        "\n",
        "\n",
        "Setelah didapatkan nilai intesitas warna hijau pada bagan warna (BWD) maka kami mengambil nilai rata dari kedua setiap level, misalnya nilai rata-rata **level 1** dan **level 2** maka didapatkan nilai **level A**.\n",
        "\n",
        "*   level A = {79.0, 163, 132}\n",
        "*   level B = {70.5, 137.5, 92,55}\n",
        "*   level c = {62.5, 111, 52.5}\n",
        "*   level d = {55.5, 86,15}\n",
        "\n",
        "\n",
        "---\n",
        "lalu diambil nilai tengahnya dikarenakan nilai tersebut merupakan nilai intesitas hijau.\n",
        "\n",
        "*   level A =  163.5\n",
        "*   level B =  137.5\n",
        "*   level c = 111\n",
        "*   level d = 86\n",
        "\n",
        "\n",
        "\n",
        "\n",
        "\n"
      ]
    },
    {
      "cell_type": "code",
      "execution_count": null,
      "metadata": {
        "colab": {
          "base_uri": "https://localhost:8080/"
        },
        "id": "Gbm28PwfnqgN",
        "outputId": "f76dcc1a-bea4-475d-f531-0bf92103f721"
      },
      "outputs": [
        {
          "name": "stdout",
          "output_type": "stream",
          "text": [
            "[]\n",
            "[]\n",
            "[]\n",
            "[]\n",
            "[122.42242188839592, 128.13801953264817]\n",
            "[135.17076531555426, 130.3627055603781, 142.98137012790423, 141.55075214367244, 134.28684571095891, 140.81136314067612, 141.42570867905476, 135.88460331084397]\n",
            "[153.33665476774155, 151.55675189485274, 149.4055071125632, 154.52075094843107, 151.30284112373005, 147.7863710924104, 152.13266286822076]\n",
            "[156.9105179398148, 164.31232233662337, 160.79253874099794, 159.83646797839506, 166.4146361144702, 160.04004538030355, 160.52310789851254, 169.64879133395158]\n"
          ]
        }
      ],
      "source": [
        "#percobaan split data\n",
        "\n",
        "level_1=[]\n",
        "level_2=[]\n",
        "level_3=[]\n",
        "level_4=[]\n",
        "level_5=[]\n",
        "level_6=[]\n",
        "level_7=[]\n",
        "level_8=[]\n",
        "\n",
        "for im in glob('/content/drive/MyDrive/HSC/dataset/data training baru/*.*'):\n",
        "  img = cv2.imread(im, -1)\n",
        "  if cv2.mean(img)[1] >= 0:\n",
        "\n",
        "    if cv2.mean(img)[1] <= 80:\n",
        "      # level 8 atau level d\n",
        "      level_8.append(cv2.mean(img)[1])\n",
        "\n",
        "    elif cv2.mean(img)[1] <= 92:\n",
        "      # level 7 atau level c\n",
        "      level_7.append(cv2.mean(img)[1])\n",
        "    elif cv2.mean(img)[1] <= 104:\n",
        "      # level 6 atau level c\n",
        "      level_6.append(cv2.mean(img)[1])\n",
        "    elif cv2.mean(img)[1] <= 118:\n",
        "      # level 5 atau level c\n",
        "      level_5.append(cv2.mean(img)[1])\n",
        "    elif cv2.mean(img)[1] <= 130:\n",
        "      # level 4 atau level c\n",
        "      level_4.append(cv2.mean(img)[1])\n",
        "    elif cv2.mean(img)[1] <= 145:\n",
        "      # level 3 atau level c\n",
        "      level_3.append(cv2.mean(img)[1])\n",
        "    elif cv2.mean(img)[1] <= 156:\n",
        "      # level 2 atau level B\n",
        "      level_2.append(cv2.mean(img)[1])\n",
        "    else:\n",
        "      # level 1 level A\n",
        "      level_1.append(cv2.mean(img)[1])\n",
        "\n",
        "  else:\n",
        "    print(\"nilai dibawah 0\")\n",
        "    \n",
        "  # print(cv2.mean(img)[1])\n",
        "  # intesitasHijau.append(cv2.mean(img)[1])\n",
        "\n",
        "\n",
        "print(level_8)\n",
        "print(level_7)\n",
        "print(level_6)\n",
        "print(level_5)\n",
        "print(level_4)\n",
        "print(level_3)\n",
        "print(level_2)\n",
        "print(level_1)\n",
        "  "
      ]
    },
    {
      "cell_type": "code",
      "execution_count": null,
      "metadata": {
        "colab": {
          "base_uri": "https://localhost:8080/"
        },
        "id": "SWvYAD0Gbk5Z",
        "outputId": "c98c239a-af60-4234-d036-33e8052299dc"
      },
      "outputs": [
        {
          "name": "stdout",
          "output_type": "stream",
          "text": [
            "nilai dibawah 0\n",
            "nilai dibawah 0\n",
            "nilai dibawah 0\n",
            "nilai dibawah 0\n",
            "nilai dibawah 0\n",
            "nilai dibawah 0\n",
            "nilai dibawah 0\n",
            "nilai dibawah 0\n",
            "nilai dibawah 0\n",
            "nilai dibawah 0\n",
            "nilai dibawah 0\n",
            "nilai dibawah 0\n",
            "nilai dibawah 0\n",
            "nilai dibawah 0\n",
            "nilai dibawah 0\n",
            "nilai dibawah 0\n",
            "nilai dibawah 0\n",
            "nilai dibawah 0\n",
            "nilai dibawah 0\n",
            "nilai dibawah 0\n",
            "nilai dibawah 0\n",
            "nilai dibawah 0\n",
            "nilai dibawah 0\n",
            "nilai dibawah 0\n",
            "nilai dibawah 0\n",
            "nilai dibawah 0\n",
            "nilai dibawah 0\n",
            "nilai dibawah 0\n",
            "nilai dibawah 0\n",
            "nilai dibawah 0\n",
            "nilai dibawah 0\n",
            "nilai dibawah 0\n",
            "nilai dibawah 0\n",
            "nilai dibawah 0\n",
            "nilai dibawah 0\n",
            "nilai dibawah 0\n",
            "nilai dibawah 0\n",
            "nilai dibawah 0\n",
            "nilai dibawah 0\n",
            "nilai dibawah 0\n",
            "nilai dibawah 0\n",
            "nilai dibawah 0\n",
            "[]\n",
            "[]\n",
            "[101.20191675000001, 98.718225875, 95.280698125, 97.40501904166668]\n",
            "[109.9205015, 106.42809741666667, 107.17918329166667, 115.10572545833334, 113.09170225000001, 117.94827433333334, 111.82890362500001, 105.47840966666668, 105.91741420833334, 112.32824666666667, 110.94791558333334, 106.11691966666667, 105.52780545833333, 110.57567912500001, 106.05986945833334, 111.12094825000001, 108.30525925, 108.62876045833335, 113.70093808333334, 104.88965475, 106.49060483333334, 111.21208991666667]\n",
            "[123.16666558333334, 126.26219825000001, 127.53111345833334, 119.46006758333334, 118.26691429166668, 120.4615945, 125.41836754166667, 124.63084350000001, 125.17876141666667, 120.57333183333334, 128.42275320833335]\n",
            "[131.69005583333333, 130.60708775, 139.90286495833334, 141.11814916666668, 132.34540720833334]\n",
            "[]\n",
            "[]\n"
          ]
        }
      ],
      "source": [
        "#percobaan split data \n",
        "#HSV\n",
        "level_1=[]\n",
        "level_2=[]\n",
        "level_3=[]\n",
        "level_4=[]\n",
        "level_5=[]\n",
        "level_6=[]\n",
        "level_7=[]\n",
        "level_8=[]\n",
        "\n",
        "for im in glob('/content/drive/MyDrive/HSC/dataset/18-02-22/*.*'):\n",
        "  img = cv2.imread(im, -1)\n",
        "  # # result = img.copy()\n",
        "  # img = cv2.cvtColor(img, cv2.COLOR_BGR2HSV, (500, 500))\n",
        "  # # nilai warna pixel hijau\n",
        "  # lower2 = np.array([40,100,100])\n",
        "  # upper2 = np.array([70,255,255])\n",
        "  # upper_mask = cv2.inRange(img, lower2, upper2)\n",
        "  # full_mask2 = upper_mask;\n",
        "  # img = cv2.bitwise_and(img, img, mask=full_mask2)\n",
        "\n",
        "  if cv2.mean(img)[1] >= 1:\n",
        "\n",
        "    if cv2.mean(img)[1] <= 80:\n",
        "      # level 8 atau level d\n",
        "      level_8.append(cv2.mean(img)[1])\n",
        "\n",
        "    elif cv2.mean(img)[1] <= 92:\n",
        "      # level 7 atau level c\n",
        "      level_7.append(cv2.mean(img)[1])\n",
        "    elif cv2.mean(img)[1] <= 104:\n",
        "      # level 6 atau level c\n",
        "      level_6.append(cv2.mean(img)[1])\n",
        "    elif cv2.mean(img)[1] <= 118:\n",
        "      # level 5 atau level c\n",
        "      level_5.append(cv2.mean(img)[1])\n",
        "    elif cv2.mean(img)[1] <= 130:\n",
        "      # level 4 atau level c\n",
        "      level_4.append(cv2.mean(img)[1])\n",
        "    elif cv2.mean(img)[1] <= 145:\n",
        "      # level 3 atau level c\n",
        "      level_3.append(cv2.mean(img)[1])\n",
        "    elif cv2.mean(img)[1] <= 156:\n",
        "      # level 2 atau level B\n",
        "      level_2.append(cv2.mean(img)[1])\n",
        "    else:\n",
        "      # level 1 level A\n",
        "      level_1.append(cv2.mean(img)[1])\n",
        "\n",
        "  else:\n",
        "    print(\"nilai dibawah 0\")\n",
        "    \n",
        "  # print(cv2.mean(img)[1])\n",
        "  # intesitasHijau.append(cv2.mean(img)[1])\n",
        "\n",
        "\n",
        "print(level_8)\n",
        "print(level_7)\n",
        "print(level_6)\n",
        "print(level_5)\n",
        "print(level_4)\n",
        "print(level_3)\n",
        "print(level_2)\n",
        "print(level_1)"
      ]
    },
    {
      "cell_type": "code",
      "execution_count": null,
      "metadata": {
        "id": "yfukxuq9rU-B"
      },
      "outputs": [],
      "source": [
        "# Percobaan dengan data pada folder 18-02-22\n",
        "#percobaan split data\n",
        "intesitasHijau = []\n",
        "level_1=[]\n",
        "level_2=[]\n",
        "level_3=[]\n",
        "level_4=[]\n",
        "\n",
        "for im in glob('/content/drive/MyDrive/HSC/dataset/18-02-22/*.*'):\n",
        "  img = cv2.imread(im, -1)\n",
        "  if cv2.mean(img)[1] >= 0:\n",
        "\n",
        "    if cv2.mean(img)[1] <= 86:\n",
        "      # level 4\n",
        "      level_4.append(cv2.mean(img)[1])\n",
        "    elif cv2.mean(img)[1] <= 111:\n",
        "      # level 3\n",
        "      level_3.append(cv2.mean(img)[1])\n",
        "    elif cv2.mean(img)[1] <= 137:\n",
        "      # level 2\n",
        "      level_2.append(cv2.mean(img)[1])\n",
        "    else:\n",
        "      # level 1\n",
        "      level_1.append(cv2.mean(img)[1])\n",
        "  else:\n",
        "    print(\"nilai dibawah 0\")\n",
        "    \n",
        "  # print(cv2.mean(img)[1])\n",
        "  # intesitasHijau.append(cv2.mean(img)[1])\n",
        "\n",
        "print(level_4)\n",
        "print(level_3)\n",
        "print(level_2)\n",
        "print(level_1)"
      ]
    },
    {
      "cell_type": "code",
      "execution_count": null,
      "metadata": {
        "id": "rt8m_6x_yZi5"
      },
      "outputs": [],
      "source": [
        "# no camera\n",
        "#percobaan split data\n",
        "intesitasHijau = []\n",
        "level_1=[]\n",
        "level_2=[]\n",
        "level_3=[]\n",
        "level_4=[]\n",
        "\n",
        "img = cv2.imread('/content/drive/MyDrive/HSC/dataset/data training baru/20220304_161043.jpg')\n",
        "#grabcut\n",
        "# mask =np.zeros(img.shape[:2],np.uint8)\n",
        "# bgdModel = np.zeros((1,65),np.float64)\n",
        "# fgdModel = np.zeros((1,65),np.float64)\n",
        "\n",
        "# rect= (40,-40,50,300)\n",
        "# cv2.grabCut(img,mask,rect,bgdModel,fgdModel,5,cv2.GC_INIT_WITH_RECT)\n",
        "# mask2 =np.where((mask==2) | (mask==0),0,1).astype('uint8')\n",
        "# img =img*mask2[:,:,np.newaxis]\n",
        "\n",
        "# menentukan level\n",
        "if cv2.mean(img)[1] >= 0:\n",
        "  if cv2.mean(img)[1] <= 86:\n",
        "      # level 4\n",
        "      level_4.append(cv2.mean(img)[1])\n",
        "  elif cv2.mean(img)[1] <= 111:\n",
        "      # level 3\n",
        "      level_3.append(cv2.mean(img)[1])\n",
        "  elif cv2.mean(img)[1] <= 137:\n",
        "      # level 2\n",
        "      level_2.append(cv2.mean(img)[1])\n",
        "  else:\n",
        "      # level 1\n",
        "      level_1.append(cv2.mean(img)[1])\n",
        "else:\n",
        "    print(\"nilai dibawah 0\")\n",
        "\n",
        "\n",
        "print(f'Level 4:{level_4}')\n",
        "print(f'level 3:{level_3}')\n",
        "print(f'level 2:{level_2}')\n",
        "print(f'level 1:{level_1}')"
      ]
    },
    {
      "cell_type": "markdown",
      "metadata": {
        "id": "VPydF3BDK-WI"
      },
      "source": [
        "**Mencoba mengakses kamera secara realtime**"
      ]
    },
    {
      "cell_type": "code",
      "execution_count": null,
      "metadata": {
        "id": "tS-dgxOLKJdm"
      },
      "outputs": [],
      "source": [
        "from IPython.display import display, Javascript\n",
        "from google.colab.output import eval_js\n",
        "from base64 import b64decode\n",
        "\n",
        "def take_photo(filename='photo.jpg', quality=0.8):\n",
        "  js = Javascript('''\n",
        "    async function takePhoto(quality) {\n",
        "      const div = document.createElement('div');\n",
        "      const capture = document.createElement('button');\n",
        "      capture.textContent = 'Capture';\n",
        "      div.appendChild(capture);\n",
        "\n",
        "      const video = document.createElement('video');\n",
        "      video.style.display = 'block';\n",
        "      const stream = await navigator.mediaDevices.getUserMedia({video: true});\n",
        "\n",
        "      document.body.appendChild(div);\n",
        "      div.appendChild(video);\n",
        "      video.srcObject = stream;\n",
        "      await video.play();\n",
        "\n",
        "      // Resize the output to fit the video element.\n",
        "      google.colab.output.setIframeHeight(document.documentElement.scrollHeight, true);\n",
        "\n",
        "      // Wait for Capture to be clicked.\n",
        "      await new Promise((resolve) => capture.onclick = resolve);\n",
        "\n",
        "      const canvas = document.createElement('canvas');\n",
        "      canvas.width = video.videoWidth;\n",
        "      canvas.height = video.videoHeight;\n",
        "      canvas.getContext('2d').drawImage(video, 0, 0);\n",
        "      stream.getVideoTracks()[0].stop();\n",
        "      div.remove();\n",
        "      return canvas.toDataURL('image/jpeg', quality);\n",
        "    }\n",
        "    ''')\n",
        "  display(js)\n",
        "  data = eval_js('takePhoto({})'.format(quality))\n",
        "  binary = b64decode(data.split(',')[1])\n",
        "  with open(filename, 'wb') as f:\n",
        "    f.write(binary)\n",
        "  return filename"
      ]
    },
    {
      "cell_type": "markdown",
      "metadata": {
        "id": "h2zzcMcGLGYt"
      },
      "source": [
        "**Mengambil gambar**\n",
        "\n",
        "Disimpan pada var *img*"
      ]
    },
    {
      "cell_type": "code",
      "execution_count": null,
      "metadata": {
        "id": "hs1-zNftKJdn"
      },
      "outputs": [],
      "source": [
        "from IPython.display import Image\n",
        "\n",
        "level_1=[]\n",
        "level_2=[]\n",
        "level_3=[]\n",
        "level_4=[]\n",
        "\n",
        "try:\n",
        "  filename = take_photo()\n",
        "  print('Saved to {}'.format(filename))\n",
        "  \n",
        "  \n",
        "  # Show the image which was just taken.\n",
        "  display(Image(filename))\n",
        "  # membaca gambar yang telah diambil oleh kamera\n",
        "  img=cv2.imread('/content/photo.jpg')\n",
        "  # print nilai RGB mean gambar\n",
        "    # menentukan level\n",
        "  if cv2.mean(img)[1] >= 0:\n",
        "    if cv2.mean(img)[1] <= 86:\n",
        "        # level 4\n",
        "        level_4.append(cv2.mean(img)[1])\n",
        "    elif cv2.mean(img)[1] <= 111:\n",
        "        # level 3\n",
        "        level_3.append(cv2.mean(img)[1])\n",
        "    elif cv2.mean(img)[1] <= 137:\n",
        "        # level 2\n",
        "        level_2.append(cv2.mean(img)[1])\n",
        "    else:\n",
        "        # level 1\n",
        "        level_1.append(cv2.mean(img)[1])\n",
        "  else:\n",
        "      print(\"nilai dibawah 0\")\n",
        "  print(f'Level 4:{level_4}')\n",
        "  print(f'level 3:{level_3}')\n",
        "  print(f'level 2:{level_2}')\n",
        "  print(f'level 1:{level_1}')  \n",
        "  print(cv2.mean(img))\n",
        "\n",
        "except Exception as err:\n",
        "  # Errors will be thrown if the user does not have a webcam or if they do not\n",
        "  # grant the page permission to access it.\n",
        "  print(str(err))"
      ]
    }
  ],
  "metadata": {
    "colab": {
      "collapsed_sections": [],
      "name": "grabcutloadalldata.ipynb",
      "provenance": []
    },
    "kernelspec": {
      "display_name": "Python 3",
      "name": "python3"
    },
    "language_info": {
      "name": "python"
    }
  },
  "nbformat": 4,
  "nbformat_minor": 0
}
